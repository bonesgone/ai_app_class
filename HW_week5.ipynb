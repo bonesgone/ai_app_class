{
  "nbformat": 4,
  "nbformat_minor": 0,
  "metadata": {
    "colab": {
      "provenance": [],
      "toc_visible": true,
      "authorship_tag": "ABX9TyP0U9+NW/XwHXNF7rOo6fy/",
      "include_colab_link": true
    },
    "kernelspec": {
      "name": "python3",
      "display_name": "Python 3"
    },
    "language_info": {
      "name": "python"
    }
  },
  "cells": [
    {
      "cell_type": "markdown",
      "metadata": {
        "id": "view-in-github",
        "colab_type": "text"
      },
      "source": [
        "<a href=\"https://colab.research.google.com/github/bonesgone/ai_app_class/blob/main/HW_week5.ipynb\" target=\"_parent\"><img src=\"https://colab.research.google.com/assets/colab-badge.svg\" alt=\"Open In Colab\"/></a>"
      ]
    },
    {
      "cell_type": "markdown",
      "source": [
        "# Activity 1"
      ],
      "metadata": {
        "id": "22_sR__L2cqH"
      }
    },
    {
      "cell_type": "code",
      "source": [
        "import tensorflow as tf\n",
        "import numpy as np\n",
        "import matplotlib.pyplot as plt"
      ],
      "metadata": {
        "id": "n7B4dG_o2hTh"
      },
      "execution_count": 1,
      "outputs": []
    },
    {
      "cell_type": "code",
      "source": [
        "mnist = tf.keras.datasets.mnist\n",
        "(train_images, train_labels), (test_images, test_labels) = mnist.load_data()\n",
        "\n",
        "train_images = train_images / 255.0\n",
        "test_images = test_images / 255.0"
      ],
      "metadata": {
        "colab": {
          "base_uri": "https://localhost:8080/"
        },
        "id": "SAng3MRt2_gM",
        "outputId": "f167d663-9684-4956-a9a6-30ef446000c8"
      },
      "execution_count": 2,
      "outputs": [
        {
          "output_type": "stream",
          "name": "stdout",
          "text": [
            "Downloading data from https://storage.googleapis.com/tensorflow/tf-keras-datasets/mnist.npz\n",
            "11490434/11490434 [==============================] - 0s 0us/step\n"
          ]
        }
      ]
    },
    {
      "cell_type": "code",
      "source": [
        "plt.figure(figsize=(10, 2))\n",
        "for i in range(5):\n",
        "    plt.subplot(1, 5, i + 1)\n",
        "    plt.imshow(train_images[i], cmap='gray')\n",
        "    plt.title(f'Label: {train_labels[i]}')\n",
        "plt.show()"
      ],
      "metadata": {
        "colab": {
          "base_uri": "https://localhost:8080/",
          "height": 216
        },
        "id": "VtE5g1Dw3BCW",
        "outputId": "07f4014f-9672-4872-f92f-fd87f3ef2157"
      },
      "execution_count": 3,
      "outputs": [
        {
          "output_type": "display_data",
          "data": {
            "text/plain": [
              "<Figure size 1000x200 with 5 Axes>"
            ],
            "image/png": "[encoded data removed]"
          },
          "metadata": {}
        }
      ]
    },
    {
      "cell_type": "code",
      "source": [
        "# Original model with ReLU activation\n",
        "model = tf.keras.Sequential([\n",
        "    tf.keras.layers.Flatten(input_shape=(28, 28)),\n",
        "    tf.keras.layers.Dense(128, activation='relu'),\n",
        "    tf.keras.layers.Dense(10, activation='softmax')\n",
        "])\n",
        "# Compile the original model\n",
        "model.compile(optimizer='adam',\n",
        "              loss='sparse_categorical_crossentropy',\n",
        "              metrics=['accuracy'])\n",
        "# Train the original model\n",
        "history_relu = model.fit(train_images, train_labels, epochs=5)\n",
        "\n",
        "# Evaluate the original model\n",
        "test_loss_relu, test_acc_relu = model.evaluate(test_images, test_labels)\n",
        "print(f\"Test accuracy (ReLU): {test_acc_relu}\")"
      ],
      "metadata": {
        "colab": {
          "base_uri": "https://localhost:8080/"
        },
        "id": "IXQcrWbo3GG2",
        "outputId": "13b87629-1bea-439c-b3a2-22da875e486c"
      },
      "execution_count": 4,
      "outputs": [
        {
          "output_type": "stream",
          "name": "stdout",
          "text": [
            "Epoch 1/5\n",
            "1875/1875 [==============================] - 10s 5ms/step - loss: 0.2578 - accuracy: 0.9264\n",
            "Epoch 2/5\n",
            "1875/1875 [==============================] - 7s 4ms/step - loss: 0.1145 - accuracy: 0.9660\n",
            "Epoch 3/5\n",
            "1875/1875 [==============================] - 6s 3ms/step - loss: 0.0788 - accuracy: 0.9757\n",
            "Epoch 4/5\n",
            "1875/1875 [==============================] - 7s 4ms/step - loss: 0.0584 - accuracy: 0.9816\n",
            "Epoch 5/5\n",
            "1875/1875 [==============================] - 6s 3ms/step - loss: 0.0453 - accuracy: 0.9862\n",
            "313/313 [==============================] - 1s 2ms/step - loss: 0.0712 - accuracy: 0.9769\n",
            "Test accuracy (ReLU): 0.9768999814987183\n"
          ]
        }
      ]
    },
    {
      "cell_type": "code",
      "source": [
        "# Modify the model with sigmoid activation\n",
        "model_sigmoid = tf.keras.Sequential([\n",
        "    tf.keras.layers.Flatten(input_shape=(28, 28)),\n",
        "    tf.keras.layers.Dense(128, activation='sigmoid'),  # Change activation to sigmoid\n",
        "    tf.keras.layers.Dense(10, activation='softmax')\n",
        "])\n",
        "\n",
        "# Compile the sigmoid model\n",
        "model_sigmoid.compile(optimizer='adam',\n",
        "                      loss='sparse_categorical_crossentropy',\n",
        "                      metrics=['accuracy'])\n",
        "\n",
        "# Train the sigmoid model\n",
        "history_sigmoid = model_sigmoid.fit(train_images, train_labels, epochs=5)\n",
        "\n",
        "# Evaluate the sigmoid model\n",
        "test_loss_sigmoid, test_acc_sigmoid = model_sigmoid.evaluate(test_images, test_labels)\n",
        "print(f\"Test accuracy (sigmoid): {test_acc_sigmoid}\")"
      ],
      "metadata": {
        "colab": {
          "base_uri": "https://localhost:8080/"
        },
        "id": "UmSC-Uzz3ItH",
        "outputId": "8a643755-c551-4c18-ba70-706c6983026c"
      },
      "execution_count": 5,
      "outputs": [
        {
          "output_type": "stream",
          "name": "stdout",
          "text": [
            "Epoch 1/5\n",
            "1875/1875 [==============================] - 10s 5ms/step - loss: 0.4025 - accuracy: 0.8953\n",
            "Epoch 2/5\n",
            "1875/1875 [==============================] - 13s 7ms/step - loss: 0.1957 - accuracy: 0.9438\n",
            "Epoch 3/5\n",
            "1875/1875 [==============================] - 7s 4ms/step - loss: 0.1417 - accuracy: 0.9593\n",
            "Epoch 4/5\n",
            "1875/1875 [==============================] - 7s 4ms/step - loss: 0.1098 - accuracy: 0.9682\n",
            "Epoch 5/5\n",
            "1875/1875 [==============================] - 7s 4ms/step - loss: 0.0873 - accuracy: 0.9752\n",
            "313/313 [==============================] - 1s 2ms/step - loss: 0.0962 - accuracy: 0.9704\n",
            "Test accuracy (sigmoid): 0.9703999757766724\n"
          ]
        }
      ]
    },
    {
      "cell_type": "code",
      "source": [
        "# You already have the original model with ReLU activation from your code.\n",
        "\n",
        "# Train the model (no need to compile again)\n",
        "history_relu = model.fit(train_images, train_labels, epochs=5)\n",
        "\n",
        "# Evaluate the model\n",
        "test_loss_relu, test_acc_relu = model.evaluate(test_images, test_labels)\n",
        "print(f\"Test accuracy (ReLU): {test_acc_relu}\")"
      ],
      "metadata": {
        "colab": {
          "base_uri": "https://localhost:8080/"
        },
        "id": "8fvPH5N63W5C",
        "outputId": "d004beb6-88ac-4b94-e624-25ed70477dc4"
      },
      "execution_count": 6,
      "outputs": [
        {
          "output_type": "stream",
          "name": "stdout",
          "text": [
            "Epoch 1/5\n",
            "1875/1875 [==============================] - 6s 3ms/step - loss: 0.0355 - accuracy: 0.9890\n",
            "Epoch 2/5\n",
            "1875/1875 [==============================] - 7s 3ms/step - loss: 0.0277 - accuracy: 0.9913\n",
            "Epoch 3/5\n",
            "1875/1875 [==============================] - 6s 3ms/step - loss: 0.0234 - accuracy: 0.9929\n",
            "Epoch 4/5\n",
            "1875/1875 [==============================] - 7s 4ms/step - loss: 0.0179 - accuracy: 0.9944\n",
            "Epoch 5/5\n",
            "1875/1875 [==============================] - 6s 3ms/step - loss: 0.0157 - accuracy: 0.9949\n",
            "313/313 [==============================] - 1s 3ms/step - loss: 0.0799 - accuracy: 0.9790\n",
            "Test accuracy (ReLU): 0.9789999723434448\n"
          ]
        }
      ]
    },
    {
      "cell_type": "code",
      "source": [
        "# Modify the model with tanh activation\n",
        "model_tanh = tf.keras.Sequential([\n",
        "    tf.keras.layers.Flatten(input_shape=(28, 28)),\n",
        "    tf.keras.layers.Dense(128, activation='tanh'),  # Change activation to tanh\n",
        "    tf.keras.layers.Dense(10, activation='softmax')\n",
        "])\n",
        "\n",
        "# Compile the tanh model\n",
        "model_tanh.compile(optimizer='adam',\n",
        "                   loss='sparse_categorical_crossentropy',\n",
        "                   metrics=['accuracy'])\n",
        "\n",
        "# Train the tanh model\n",
        "history_tanh = model_tanh.fit(train_images, train_labels, epochs=5)\n",
        "\n",
        "# Evaluate the tanh model\n",
        "test_loss_tanh, test_acc_tanh = model_tanh.evaluate(test_images, test_labels)\n",
        "print(f\"Test accuracy (tanh): {test_acc_tanh}\")"
      ],
      "metadata": {
        "colab": {
          "base_uri": "https://localhost:8080/"
        },
        "id": "Og5odCww3jXt",
        "outputId": "1e626bc6-d527-496f-cc8d-6afe7278a61a"
      },
      "execution_count": 7,
      "outputs": [
        {
          "output_type": "stream",
          "name": "stdout",
          "text": [
            "Epoch 1/5\n",
            "1875/1875 [==============================] - 6s 3ms/step - loss: 0.2832 - accuracy: 0.9185\n",
            "Epoch 2/5\n",
            "1875/1875 [==============================] - 8s 4ms/step - loss: 0.1379 - accuracy: 0.9599\n",
            "Epoch 3/5\n",
            "1875/1875 [==============================] - 7s 4ms/step - loss: 0.0944 - accuracy: 0.9726\n",
            "Epoch 4/5\n",
            "1875/1875 [==============================] - 7s 4ms/step - loss: 0.0695 - accuracy: 0.9794\n",
            "Epoch 5/5\n",
            "1875/1875 [==============================] - 6s 3ms/step - loss: 0.0524 - accuracy: 0.9849\n",
            "313/313 [==============================] - 1s 2ms/step - loss: 0.0765 - accuracy: 0.9757\n",
            "Test accuracy (tanh): 0.9757000207901001\n"
          ]
        }
      ]
    },
    {
      "cell_type": "markdown",
      "source": [
        "# **Model performance comparison:**\n",
        "\n",
        "1.   Test accuracy (ReLU): 0.9768999814987183\n",
        "2.   Test accuracy (sigmoid): 0.9703999757766724\n",
        "3.   Test accuracy (tanh): 0.9757000207901001\n",
        "\n"
      ],
      "metadata": {
        "id": "ORzNR_OS5A7N"
      }
    },
    {
      "cell_type": "markdown",
      "source": [
        "# Activity 2"
      ],
      "metadata": {
        "id": "4v6SWppU5mS2"
      }
    },
    {
      "cell_type": "code",
      "source": [
        "# Define the learning rates to be experimented\n",
        "learning_rates = [0.001, 0.01, 0.1]\n",
        "\n",
        "for lr in learning_rates:\n",
        "    optimizer = tf.keras.optimizers.Adam(learning_rate=lr)\n",
        "    model = tf.keras.Sequential([\n",
        "        tf.keras.layers.Flatten(input_shape=(28, 28)),\n",
        "        tf.keras.layers.Dense(128, activation='relu'),\n",
        "        tf.keras.layers.Dense(10, activation='softmax')\n",
        "    ])\n",
        "\n",
        "    model.compile(optimizer=optimizer,\n",
        "                  loss='sparse_categorical_crossentropy',\n",
        "                  metrics=['accuracy'])\n",
        "\n",
        "    print(f\"Training model with learning rate: {lr}\")\n",
        "    model.fit(train_images, train_labels, epochs=5, batch_size=32)\n",
        "    test_loss, test_acc = model.evaluate(test_images, test_labels)\n",
        "    print(f\"Test accuracy with learning rate {lr}: {test_acc}\")"
      ],
      "metadata": {
        "colab": {
          "base_uri": "https://localhost:8080/"
        },
        "id": "JMw_Kfie5oeW",
        "outputId": "d7dc94e0-a650-4fc9-bb37-6edaa21c62e7"
      },
      "execution_count": 10,
      "outputs": [
        {
          "output_type": "stream",
          "name": "stdout",
          "text": [
            "Training model with learning rate: 0.001\n",
            "Epoch 1/5\n",
            "1875/1875 [==============================] - 11s 6ms/step - loss: 0.2585 - accuracy: 0.9268\n",
            "Epoch 2/5\n",
            "1875/1875 [==============================] - 6s 3ms/step - loss: 0.1145 - accuracy: 0.9663\n",
            "Epoch 3/5\n",
            "1875/1875 [==============================] - 7s 4ms/step - loss: 0.0789 - accuracy: 0.9766\n",
            "Epoch 4/5\n",
            "1875/1875 [==============================] - 6s 3ms/step - loss: 0.0588 - accuracy: 0.9826\n",
            "Epoch 5/5\n",
            "1875/1875 [==============================] - 7s 4ms/step - loss: 0.0453 - accuracy: 0.9860\n",
            "313/313 [==============================] - 1s 2ms/step - loss: 0.0776 - accuracy: 0.9765\n",
            "Test accuracy with learning rate 0.001: 0.9764999747276306\n",
            "Training model with learning rate: 0.01\n",
            "Epoch 1/5\n",
            "1875/1875 [==============================] - 7s 4ms/step - loss: 0.2416 - accuracy: 0.9281\n",
            "Epoch 2/5\n",
            "1875/1875 [==============================] - 6s 3ms/step - loss: 0.1617 - accuracy: 0.9550\n",
            "Epoch 3/5\n",
            "1875/1875 [==============================] - 9s 5ms/step - loss: 0.1446 - accuracy: 0.9609\n",
            "Epoch 4/5\n",
            "1875/1875 [==============================] - 7s 4ms/step - loss: 0.1308 - accuracy: 0.9652\n",
            "Epoch 5/5\n",
            "1875/1875 [==============================] - 6s 3ms/step - loss: 0.1238 - accuracy: 0.9669\n",
            "313/313 [==============================] - 1s 2ms/step - loss: 0.2070 - accuracy: 0.9531\n",
            "Test accuracy with learning rate 0.01: 0.9531000256538391\n",
            "Training model with learning rate: 0.1\n",
            "Epoch 1/5\n",
            "1875/1875 [==============================] - 8s 4ms/step - loss: 1.2116 - accuracy: 0.6283\n",
            "Epoch 2/5\n",
            "1875/1875 [==============================] - 6s 3ms/step - loss: 1.2953 - accuracy: 0.5867\n",
            "Epoch 3/5\n",
            "1875/1875 [==============================] - 7s 4ms/step - loss: 1.2722 - accuracy: 0.5917\n",
            "Epoch 4/5\n",
            "1875/1875 [==============================] - 6s 3ms/step - loss: 1.2990 - accuracy: 0.5801\n",
            "Epoch 5/5\n",
            "1875/1875 [==============================] - 7s 4ms/step - loss: 1.3254 - accuracy: 0.5656\n",
            "313/313 [==============================] - 1s 3ms/step - loss: 1.3797 - accuracy: 0.5484\n",
            "Test accuracy with learning rate 0.1: 0.5483999848365784\n"
          ]
        }
      ]
    },
    {
      "cell_type": "code",
      "source": [
        "\n",
        "\n",
        "# Task 2: Experiment with Different Batch Sizes\n",
        "# Define the batch sizes to be experimented\n",
        "batch_sizes = [32, 64, 128]\n",
        "\n",
        "for batch_size in batch_sizes:\n",
        "    optimizer = tf.keras.optimizers.Adam(learning_rate=0.01)  # Using a fixed learning rate for this experiment\n",
        "    model = tf.keras.Sequential([\n",
        "        tf.keras.layers.Flatten(input_shape=(28, 28)),\n",
        "        tf.keras.layers.Dense(128, activation='relu'),\n",
        "        tf.keras.layers.Dense(10, activation='softmax')\n",
        "    ])\n",
        "\n",
        "    model.compile(optimizer=optimizer,\n",
        "                  loss='sparse_categorical_crossentropy',\n",
        "                  metrics=['accuracy'])\n",
        "\n",
        "    print(f\"Training model with batch size: {batch_size}\")\n",
        "    model.fit(train_images, train_labels, epochs=5, batch_size=batch_size)\n",
        "    test_loss, test_acc = model.evaluate(test_images, test_labels)\n",
        "    print(f\"Test accuracy with batch size {batch_size}: {test_acc}\")\n",
        "\n",
        "\n"
      ],
      "metadata": {
        "colab": {
          "base_uri": "https://localhost:8080/"
        },
        "id": "eh3daNIU7ltZ",
        "outputId": "5af05e90-417c-434a-d0d9-7df511306928"
      },
      "execution_count": 11,
      "outputs": [
        {
          "output_type": "stream",
          "name": "stdout",
          "text": [
            "Training model with batch size: 32\n",
            "Epoch 1/5\n",
            "1875/1875 [==============================] - 6s 3ms/step - loss: 0.2417 - accuracy: 0.9290\n",
            "Epoch 2/5\n",
            "1875/1875 [==============================] - 7s 4ms/step - loss: 0.1617 - accuracy: 0.9548\n",
            "Epoch 3/5\n",
            "1875/1875 [==============================] - 6s 3ms/step - loss: 0.1436 - accuracy: 0.9620\n",
            "Epoch 4/5\n",
            "1875/1875 [==============================] - 7s 4ms/step - loss: 0.1326 - accuracy: 0.9650\n",
            "Epoch 5/5\n",
            "1875/1875 [==============================] - 6s 3ms/step - loss: 0.1201 - accuracy: 0.9686\n",
            "313/313 [==============================] - 1s 2ms/step - loss: 0.2003 - accuracy: 0.9617\n",
            "Test accuracy with batch size 32: 0.9617000222206116\n",
            "Training model with batch size: 64\n",
            "Epoch 1/5\n",
            "938/938 [==============================] - 5s 4ms/step - loss: 0.2217 - accuracy: 0.9330\n",
            "Epoch 2/5\n",
            "938/938 [==============================] - 3s 4ms/step - loss: 0.1272 - accuracy: 0.9618\n",
            "Epoch 3/5\n",
            "938/938 [==============================] - 3s 3ms/step - loss: 0.1105 - accuracy: 0.9682\n",
            "Epoch 4/5\n",
            "938/938 [==============================] - 3s 4ms/step - loss: 0.1009 - accuracy: 0.9725\n",
            "Epoch 5/5\n",
            "938/938 [==============================] - 5s 5ms/step - loss: 0.0911 - accuracy: 0.9743\n",
            "313/313 [==============================] - 1s 2ms/step - loss: 0.1516 - accuracy: 0.9672\n",
            "Test accuracy with batch size 64: 0.967199981212616\n",
            "Training model with batch size: 128\n",
            "Epoch 1/5\n",
            "469/469 [==============================] - 2s 4ms/step - loss: 0.2253 - accuracy: 0.9321\n",
            "Epoch 2/5\n",
            "469/469 [==============================] - 2s 4ms/step - loss: 0.1148 - accuracy: 0.9648\n",
            "Epoch 3/5\n",
            "469/469 [==============================] - 2s 4ms/step - loss: 0.0893 - accuracy: 0.9721\n",
            "Epoch 4/5\n",
            "469/469 [==============================] - 2s 4ms/step - loss: 0.0760 - accuracy: 0.9766\n",
            "Epoch 5/5\n",
            "469/469 [==============================] - 3s 6ms/step - loss: 0.0688 - accuracy: 0.9794\n",
            "313/313 [==============================] - 1s 2ms/step - loss: 0.1346 - accuracy: 0.9688\n",
            "Test accuracy with batch size 128: 0.9688000082969666\n"
          ]
        }
      ]
    },
    {
      "cell_type": "markdown",
      "source": [
        "# **Learning Rate:**\n",
        "\n",
        "*Small Learning Rate (e.g., 0.001)*: Training will be more stable, but it might be slow, especially in finding the global minimum of the loss function.\n",
        "\n",
        "*Medium Learning Rate (e.g., 0.01)*: A balance between stability and speed. It often converges to a good solution without being too slow.\n",
        "\n",
        "*Large Learning Rate (e.g., 0.1)*: Training might be faster, but it could overshoot the minimum and fail to converge or converge to a suboptimal solution.\n",
        "\n",
        "# **Batch Size:**\n",
        "\n",
        "*Small Batch Size (e.g., 32)*: Models converge faster because they are updated more frequently. However, the noise in the parameter updates can cause the model to get stuck in local minima.\n",
        "\n",
        "*Medium Batch Size (e.g., 64)*: A good balance between the advantages of small and large batch sizes. It often leads to stable convergence.\n",
        "\n",
        "*Large Batch Size (e.g., 128)*: Training is faster as updates are less frequent. However, very large batch sizes can lead to convergence to sharp minimizers and can cause generalization issues."
      ],
      "metadata": {
        "id": "wvM0HSDq8oQQ"
      }
    },
    {
      "cell_type": "markdown",
      "source": [
        "# Activity 3"
      ],
      "metadata": {
        "id": "QW8h5CAX9DeG"
      }
    },
    {
      "cell_type": "code",
      "source": [
        "# Define the baseline model\n",
        "baseline_model = tf.keras.Sequential([\n",
        "    tf.keras.layers.Flatten(input_shape=(28, 28)),\n",
        "    tf.keras.layers.Dense(128, activation='relu'),\n",
        "    tf.keras.layers.Dense(10, activation='softmax')\n",
        "])\n",
        "\n",
        "# Add dropout layer to the baseline model\n",
        "dropout_model = tf.keras.Sequential([\n",
        "    tf.keras.layers.Flatten(input_shape=(28, 28)),\n",
        "    tf.keras.layers.Dropout(0.3),  # 30% dropout rate, you can adjust this as needed\n",
        "    tf.keras.layers.Dense(128, activation='relu'),\n",
        "    tf.keras.layers.Dropout(0.3),\n",
        "    tf.keras.layers.Dense(10, activation='softmax')\n",
        "])\n",
        "\n",
        "# Compile both models\n",
        "baseline_model.compile(optimizer='adam',\n",
        "                       loss='sparse_categorical_crossentropy',\n",
        "                       metrics=['accuracy'])\n",
        "\n",
        "dropout_model.compile(optimizer='adam',\n",
        "                      loss='sparse_categorical_crossentropy',\n",
        "                      metrics=['accuracy'])\n",
        "\n",
        "# Train the models\n",
        "print(\"Training Baseline Model:\")\n",
        "baseline_model.fit(train_images, train_labels, epochs=5, batch_size=32)\n",
        "print(\"Training Dropout Regularized Model:\")\n",
        "dropout_model.fit(train_images, train_labels, epochs=5, batch_size=32)\n",
        "\n",
        "# Evaluate the models\n",
        "baseline_loss, baseline_acc = baseline_model.evaluate(test_images, test_labels)\n",
        "dropout_loss, dropout_acc = dropout_model.evaluate(test_images, test_labels)\n",
        "\n",
        "print(f\"Baseline Model - Test accuracy: {baseline_acc}\")\n",
        "print(f\"Dropout Regularized Model - Test accuracy: {dropout_acc}\")"
      ],
      "metadata": {
        "colab": {
          "base_uri": "https://localhost:8080/"
        },
        "id": "mB7wqrso9GU6",
        "outputId": "8fd036b6-1272-422d-e818-bbd1ba01a487"
      },
      "execution_count": 13,
      "outputs": [
        {
          "output_type": "stream",
          "name": "stdout",
          "text": [
            "Training Baseline Model:\n",
            "Epoch 1/5\n",
            "1875/1875 [==============================] - 10s 5ms/step - loss: 0.2608 - accuracy: 0.9266\n",
            "Epoch 2/5\n",
            "1875/1875 [==============================] - 6s 3ms/step - loss: 0.1130 - accuracy: 0.9669\n",
            "Epoch 3/5\n",
            "1875/1875 [==============================] - 7s 4ms/step - loss: 0.0783 - accuracy: 0.9765\n",
            "Epoch 4/5\n",
            "1875/1875 [==============================] - 6s 3ms/step - loss: 0.0583 - accuracy: 0.9821\n",
            "Epoch 5/5\n",
            "1875/1875 [==============================] - 7s 4ms/step - loss: 0.0452 - accuracy: 0.9859\n",
            "Training Dropout Regularized Model:\n",
            "Epoch 1/5\n",
            "1875/1875 [==============================] - 8s 4ms/step - loss: 0.4062 - accuracy: 0.8779\n",
            "Epoch 2/5\n",
            "1875/1875 [==============================] - 6s 3ms/step - loss: 0.2268 - accuracy: 0.9305\n",
            "Epoch 3/5\n",
            "1875/1875 [==============================] - 8s 4ms/step - loss: 0.1878 - accuracy: 0.9411\n",
            "Epoch 4/5\n",
            "1875/1875 [==============================] - 7s 4ms/step - loss: 0.1665 - accuracy: 0.9475\n",
            "Epoch 5/5\n",
            "1875/1875 [==============================] - 8s 4ms/step - loss: 0.1537 - accuracy: 0.9521\n",
            "313/313 [==============================] - 1s 2ms/step - loss: 0.0804 - accuracy: 0.9763\n",
            "313/313 [==============================] - 1s 2ms/step - loss: 0.0843 - accuracy: 0.9720\n",
            "Baseline Model - Test accuracy: 0.9763000011444092\n",
            "Dropout Regularized Model - Test accuracy: 0.972000002861023\n"
          ]
        }
      ]
    },
    {
      "cell_type": "code",
      "source": [
        "from keras import regularizers\n",
        "\n",
        "# Add L2 regularization to the dense layers of the model\n",
        "l2_model = tf.keras.Sequential([\n",
        "    tf.keras.layers.Flatten(input_shape=(28, 28)),\n",
        "    tf.keras.layers.Dense(128, activation='relu', kernel_regularizer=regularizers.l2(0.01)),  # L2 regularization with a factor of 0.01\n",
        "    tf.keras.layers.Dense(10, activation='softmax', kernel_regularizer=regularizers.l2(0.01))\n",
        "])\n",
        "\n",
        "# Compile the L2 regularized model\n",
        "l2_model.compile(optimizer='adam',\n",
        "                 loss='sparse_categorical_crossentropy',\n",
        "                 metrics=['accuracy'])\n",
        "\n",
        "# Train the L2 regularized model\n",
        "print(\"Training L2 Regularized Model:\")\n",
        "l2_model.fit(train_images, train_labels, epochs=5, batch_size=32)\n",
        "\n",
        "# Evaluate the L2 regularized model\n",
        "l2_loss, l2_acc = l2_model.evaluate(test_images, test_labels)\n",
        "print(f\"L2 Regularized Model - Test accuracy: {l2_acc}\")"
      ],
      "metadata": {
        "colab": {
          "base_uri": "https://localhost:8080/"
        },
        "id": "RXY-0Nh49lZK",
        "outputId": "2ff07198-bf4b-4f09-9050-bde07df7ad56"
      },
      "execution_count": 14,
      "outputs": [
        {
          "output_type": "stream",
          "name": "stdout",
          "text": [
            "Training L2 Regularized Model:\n",
            "Epoch 1/5\n",
            "1875/1875 [==============================] - 8s 4ms/step - loss: 0.8748 - accuracy: 0.8872\n",
            "Epoch 2/5\n",
            "1875/1875 [==============================] - 6s 3ms/step - loss: 0.7404 - accuracy: 0.9005\n",
            "Epoch 3/5\n",
            "1875/1875 [==============================] - 7s 4ms/step - loss: 0.7344 - accuracy: 0.9014\n",
            "Epoch 4/5\n",
            "1875/1875 [==============================] - 7s 4ms/step - loss: 0.7293 - accuracy: 0.9025\n",
            "Epoch 5/5\n",
            "1875/1875 [==============================] - 7s 4ms/step - loss: 0.7283 - accuracy: 0.9018\n",
            "313/313 [==============================] - 1s 2ms/step - loss: 0.7056 - accuracy: 0.9105\n",
            "L2 Regularized Model - Test accuracy: 0.9104999899864197\n"
          ]
        }
      ]
    },
    {
      "cell_type": "markdown",
      "source": [
        "# **Model performance comparison:**\n",
        "\n",
        "1.   Baseline Model - Test accuracy: 0.9763000011444092\n",
        "2.   L2 Regularized Model - Test accuracy: 0.9104999899864197"
      ],
      "metadata": {
        "id": "3FcMbTMZ-eQI"
      }
    },
    {
      "cell_type": "markdown",
      "source": [
        "# Activity 4"
      ],
      "metadata": {
        "id": "oN0bVqi6-3mw"
      }
    },
    {
      "cell_type": "code",
      "source": [
        "from sklearn.metrics import classification_report"
      ],
      "metadata": {
        "id": "1UFTHhmK_L2B"
      },
      "execution_count": 17,
      "outputs": []
    },
    {
      "cell_type": "code",
      "source": [
        "# Build the model\n",
        "model = tf.keras.Sequential([\n",
        "    tf.keras.layers.Flatten(input_shape=(28, 28)),\n",
        "    tf.keras.layers.Dense(128, activation='relu'),\n",
        "    tf.keras.layers.Dense(10, activation='softmax')\n",
        "])\n",
        "\n",
        "# Compile the model\n",
        "model.compile(optimizer='adam',\n",
        "              loss='sparse_categorical_crossentropy',\n",
        "              metrics=['accuracy'])"
      ],
      "metadata": {
        "id": "jDDJeklc-69k"
      },
      "execution_count": 18,
      "outputs": []
    },
    {
      "cell_type": "code",
      "source": [
        "\n",
        "\n",
        "predictions = model.predict(test_images)\n",
        "predicted_labels = tf.argmax(predictions, axis=1).numpy()\n",
        "\n",
        "# Calculate precision, recall, and F1-score\n",
        "precision = tf.keras.metrics.Precision()(test_labels, predicted_labels)\n",
        "recall = tf.keras.metrics.Recall()(test_labels, predicted_labels)\n",
        "f1_score = 2 * (precision * recall) / (precision + recall)\n",
        "\n",
        "print(f'Precision: {precision.numpy()}')\n",
        "print(f'Recall: {recall.numpy()}')\n",
        "print(f'F1-score: {f1_score.numpy()}')\n",
        "\n",
        "# Alternatively, you can use scikit-learn's classification_report for a detailed report\n",
        "print(classification_report(test_labels, predicted_labels))\n",
        "\n"
      ],
      "metadata": {
        "colab": {
          "base_uri": "https://localhost:8080/"
        },
        "id": "dILHKC1d_C4B",
        "outputId": "2d7ddc01-7d59-4c2f-d3c7-e9f080efb463"
      },
      "execution_count": 19,
      "outputs": [
        {
          "output_type": "stream",
          "name": "stdout",
          "text": [
            "313/313 [==============================] - 1s 2ms/step\n",
            "Precision: 0.8902748823165894\n",
            "Recall: 0.8545454740524292\n",
            "F1-score: 0.8720443844795227\n",
            "              precision    recall  f1-score   support\n",
            "\n",
            "           0       0.02      0.03      0.03       980\n",
            "           1       0.00      0.00      0.00      1135\n",
            "           2       0.22      0.03      0.05      1032\n",
            "           3       0.00      0.00      0.00      1010\n",
            "           4       0.03      0.01      0.01       982\n",
            "           5       0.07      0.26      0.11       892\n",
            "           6       0.12      0.25      0.16       958\n",
            "           7       0.15      0.12      0.13      1028\n",
            "           8       0.04      0.03      0.04       974\n",
            "           9       0.02      0.02      0.02      1009\n",
            "\n",
            "    accuracy                           0.07     10000\n",
            "   macro avg       0.07      0.07      0.06     10000\n",
            "weighted avg       0.07      0.07      0.05     10000\n",
            "\n"
          ]
        }
      ]
    },
    {
      "cell_type": "markdown",
      "source": [
        "***Precision***, ***Recall***, and ***F1-score*** are appropriate metrics for assessing the model's performance on individual classes, while macro and weighted averages provide insights into the overall model performance. The low accuracy suggests that there may be a need for further model improvement, especially in handling the imbalanced classes."
      ],
      "metadata": {
        "id": "-ZwCCOyz_oxX"
      }
    },
    {
      "cell_type": "markdown",
      "source": [
        "# Activity 5"
      ],
      "metadata": {
        "id": "VrjTtUAB_1tD"
      }
    },
    {
      "cell_type": "code",
      "source": [
        "\n",
        "# Load and preprocess the MNIST dataset\n",
        "mnist = tf.keras.datasets.mnist\n",
        "(train_images, train_labels), (test_images, test_labels) = mnist.load_data()\n",
        "train_images, test_images = train_images / 255.0, test_images / 255.0\n",
        "\n",
        "# Reshape the data to fit the CNN model\n",
        "train_images = train_images.reshape(train_images.shape[0], 28, 28, 1)\n",
        "test_images = test_images.reshape(test_images.shape[0], 28, 28, 1)\n",
        "\n",
        "# Baseline Feedforward Neural Network Model\n",
        "baseline_model = tf.keras.Sequential([\n",
        "    tf.keras.layers.Flatten(input_shape=(28, 28)),\n",
        "    tf.keras.layers.Dense(128, activation='relu'),\n",
        "    tf.keras.layers.Dense(10, activation='softmax')\n",
        "])\n",
        "\n",
        "# Simple CNN Model\n",
        "cnn_model = tf.keras.Sequential([\n",
        "    tf.keras.layers.Conv2D(32, (3, 3), activation='relu', input_shape=(28, 28, 1)),\n",
        "    tf.keras.layers.MaxPooling2D((2, 2)),\n",
        "    tf.keras.layers.Flatten(),\n",
        "    tf.keras.layers.Dense(128, activation='relu'),\n",
        "    tf.keras.layers.Dense(10, activation='softmax')\n",
        "])\n",
        "\n",
        "# Compile both models\n",
        "baseline_model.compile(optimizer='adam',\n",
        "                       loss='sparse_categorical_crossentropy',\n",
        "                       metrics=['accuracy'])\n",
        "\n",
        "cnn_model.compile(optimizer='adam',\n",
        "                  loss='sparse_categorical_crossentropy',\n",
        "                  metrics=['accuracy'])\n",
        "\n",
        "# Train the models\n",
        "print(\"Training Baseline Model:\")\n",
        "baseline_model.fit(train_images, train_labels, epochs=5, batch_size=32)\n",
        "print(\"Training CNN Model:\")\n",
        "cnn_model.fit(train_images, train_labels, epochs=5, batch_size=32)\n",
        "\n",
        "# Evaluate the models\n",
        "baseline_loss, baseline_acc = baseline_model.evaluate(test_images, test_labels)\n",
        "cnn_loss, cnn_acc = cnn_model.evaluate(test_images, test_labels)\n",
        "\n",
        "print(f\"Baseline Model - Test accuracy: {baseline_acc}\")\n",
        "print(f\"CNN Model - Test accuracy: {cnn_acc}\")\n"
      ],
      "metadata": {
        "colab": {
          "base_uri": "https://localhost:8080/"
        },
        "id": "YahQjEtS_32T",
        "outputId": "346a9fe6-7384-4a45-953a-8ef4d2dea54e"
      },
      "execution_count": 20,
      "outputs": [
        {
          "output_type": "stream",
          "name": "stdout",
          "text": [
            "Training Baseline Model:\n",
            "Epoch 1/5\n",
            "1875/1875 [==============================] - 12s 5ms/step - loss: 0.2539 - accuracy: 0.9269\n",
            "Epoch 2/5\n",
            "1875/1875 [==============================] - 6s 3ms/step - loss: 0.1132 - accuracy: 0.9671\n",
            "Epoch 3/5\n",
            "1875/1875 [==============================] - 7s 4ms/step - loss: 0.0764 - accuracy: 0.9765\n",
            "Epoch 4/5\n",
            "1875/1875 [==============================] - 6s 3ms/step - loss: 0.0558 - accuracy: 0.9829\n",
            "Epoch 5/5\n",
            "1875/1875 [==============================] - 7s 4ms/step - loss: 0.0434 - accuracy: 0.9864\n",
            "Training CNN Model:\n",
            "Epoch 1/5\n",
            "1875/1875 [==============================] - 39s 21ms/step - loss: 0.1543 - accuracy: 0.9543\n",
            "Epoch 2/5\n",
            "1875/1875 [==============================] - 38s 20ms/step - loss: 0.0537 - accuracy: 0.9834\n",
            "Epoch 3/5\n",
            "1875/1875 [==============================] - 37s 20ms/step - loss: 0.0337 - accuracy: 0.9895\n",
            "Epoch 4/5\n",
            "1875/1875 [==============================] - 36s 19ms/step - loss: 0.0230 - accuracy: 0.9924\n",
            "Epoch 5/5\n",
            "1875/1875 [==============================] - 38s 20ms/step - loss: 0.0152 - accuracy: 0.9952\n",
            "313/313 [==============================] - 1s 2ms/step - loss: 0.0848 - accuracy: 0.9740\n",
            "313/313 [==============================] - 2s 7ms/step - loss: 0.0443 - accuracy: 0.9861\n",
            "Baseline Model - Test accuracy: 0.9739999771118164\n",
            "CNN Model - Test accuracy: 0.9861000180244446\n"
          ]
        }
      ]
    }
  ]
}