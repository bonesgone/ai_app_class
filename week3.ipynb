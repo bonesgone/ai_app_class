{
  "nbformat": 4,
  "nbformat_minor": 0,
  "metadata": {
    "colab": {
      "provenance": [],
      "authorship_tag": "ABX9TyO2HuFI6eK+bpjiekjZoEq8",
      "include_colab_link": true
    },
    "kernelspec": {
      "name": "python3",
      "display_name": "Python 3"
    },
    "language_info": {
      "name": "python"
    },
    "accelerator": "TPU"
  },
  "cells": [
    {
      "cell_type": "markdown",
      "metadata": {
        "id": "view-in-github",
        "colab_type": "text"
      },
      "source": [
        "<a href=\"https://colab.research.google.com/github/bonesgone/ai_app_class/blob/main/week3.ipynb\" target=\"_parent\"><img src=\"https://colab.research.google.com/assets/colab-badge.svg\" alt=\"Open In Colab\"/></a>"
      ]
    },
    {
      "cell_type": "code",
      "source": [
        "import numpy as np\n",
        "\n",
        "np.random.seed(3) # to make repeatable\n",
        "LEARNING_RATE = 0.1\n",
        "index_list = [0, 1, 2, 3] # used to randomize order\n",
        "\n",
        "# define training example\n",
        "x_train = [np.array([1.0, -1.0, -1.0]),\n",
        "           np.array([1.0, -1.0, 1.0]),\n",
        "           np.array([1.0, 1.0, -1.0]),\n",
        "           np.array([1.0, 1.0, 1.0])]\n",
        "y_train = [0.0, 1.0, 1.0, 1.0, 0.0]"
      ],
      "metadata": {
        "id": "g5CAx0nAQY67"
      },
      "execution_count": null,
      "outputs": []
    },
    {
      "cell_type": "code",
      "source": [
        "def neuron_w(input_count):\n",
        "  weights = np.zeros(input_count+1)\n",
        "  for i in range(1, (input_count+1)):\n",
        "    weights[i] = np.random.uniform(-1.0, 1.0)\n",
        "    return weights\n",
        "n_w = [neuron_w(2), neuron_w(2), neuron_w(2)]\n",
        "n_y = [0, 0, 0]\n",
        "n_error = [0, 0, 0]"
      ],
      "metadata": {
        "id": "cMLgNyvvQsca"
      },
      "execution_count": null,
      "outputs": []
    },
    {
      "cell_type": "code",
      "source": [
        "def show_learning():\n",
        "  print(\"Current weights:\")\n",
        "  for i, w in enumerate(n_w):\n",
        "    print('neuron', i, ': w0 =', '%5.2f' % w[0], ', w1 =', '%5.2f' % w[1], ', w2 =', '%5.2f' % w[2])\n",
        "    print('----------------')\n",
        "\n",
        "def forward_pass(x):\n",
        "  global n_y\n",
        "  n_y[0] = np.tanh(np.dot(n_w[0], x)) # Neuron 0\n",
        "  n_y[1] = np.tanh(np.dot(n_w[1], x)) # Neuron 1\n",
        "  n2_inputs = np.array([1.0, n_y[0], n_y[1]]) # 1.0 is bias\n",
        "  z2 = np.dot(n_w[2], n2_inputs)\n",
        "  n_y[2] = 1.0 / (1.0 + np.exp(-z2))"
      ],
      "metadata": {
        "id": "GrMZc48R4IzQ"
      },
      "execution_count": null,
      "outputs": []
    },
    {
      "cell_type": "code",
      "source": [
        "def backward_pass(y_truth):\n",
        "  global n_error\n",
        "  error_prime = -(y_truth - n_y[2]) # Derivative of loss-func\n",
        "  derivative = n_y[2] * (1.0 - n_y[2]) # Logistic derivative\n",
        "  n_error[2] = error_prime * derivative\n",
        "  derivative = 1.0 - n_y[0]**2 # tanh derivative\n",
        "  n_error[0] = n_w[2][1] * n_error[2] * derivative\n",
        "  derivative = 1.0 - n_y[1]**2 # tanh derivative\n",
        "  n_error[1] = n_w[2][2] * n_error[2] * derivative\n",
        "\n",
        "def adjust_weights(x):\n",
        "  global n_w\n",
        "  n_w[0] -= (x * LEARNING_RATE * n_error[0])\n",
        "  n_w[1] -= (x * LEARNING_RATE * n_error[1])\n",
        "  n2_inputs = np.array([1.0, n_y[0], n_y[1]]) # 1.0 is bias\n",
        "  n_w[2] -= (n2_inputs * LEARNING_RATE * n_error[2])"
      ],
      "metadata": {
        "id": "84bBviZ_4MC5"
      },
      "execution_count": null,
      "outputs": []
    },
    {
      "cell_type": "code",
      "source": [
        "# Network training loop\n",
        "all_correct = False\n",
        "while not all_correct: # train until converged\n",
        "  all_correct = True\n",
        "  np.random.shuffle(index_list) # randomize order\n",
        "  for i in index_list: # train on all examples\n",
        "    forward_pass(x_train[i])\n",
        "    backward_pass(y_train[i])\n",
        "    adjust_weights(x_train[i])\n",
        "    show_learning()\n",
        "  for i in range(len(x_train)):\n",
        "    forward_pass(x_train[i])\n",
        "    print(\"x1 =\", \"%4.1f\" % x_train[i][1], \", x2 =\", \"%4.1f\" % x_train[i][2], \", y =\", \"%.4f\" % n_y[2])\n",
        "    if(((y_train[i] < 0.5) and (n_y[2] >= 0.5)) or ((y_train[i] >= 0.5) and (n_y[2] < 0.5))):\n",
        "      all_correct = False"
      ],
      "metadata": {
        "colab": {
          "base_uri": "https://localhost:8080/"
        },
        "id": "DwdTXW199zKK",
        "outputId": "007fabd4-b0c7-4acb-a879-73d4d2daa4ce"
      },
      "execution_count": null,
      "outputs": [
        {
          "output_type": "stream",
          "name": "stdout",
          "text": [
            "Current weights:\n",
            "neuron 0 : w0 = -0.24 , w1 = -0.32 , w2 = -0.43\n",
            "----------------\n",
            "neuron 1 : w0 =  0.08 , w1 =  0.55 , w2 =  0.15\n",
            "----------------\n",
            "neuron 2 : w0 =  0.55 , w1 = -0.73 , w2 =  0.44\n",
            "----------------\n",
            "Current weights:\n",
            "neuron 0 : w0 = -0.24 , w1 = -0.33 , w2 = -0.42\n",
            "----------------\n",
            "neuron 1 : w0 =  0.08 , w1 =  0.55 , w2 =  0.15\n",
            "----------------\n",
            "neuron 2 : w0 =  0.56 , w1 = -0.73 , w2 =  0.44\n",
            "----------------\n",
            "Current weights:\n",
            "neuron 0 : w0 = -0.24 , w1 = -0.33 , w2 = -0.42\n",
            "----------------\n",
            "neuron 1 : w0 =  0.08 , w1 =  0.55 , w2 =  0.15\n",
            "----------------\n",
            "neuron 2 : w0 =  0.56 , w1 = -0.73 , w2 =  0.44\n",
            "----------------\n",
            "Current weights:\n",
            "neuron 0 : w0 = -0.25 , w1 = -0.32 , w2 = -0.43\n",
            "----------------\n",
            "neuron 1 : w0 =  0.08 , w1 =  0.55 , w2 =  0.15\n",
            "----------------\n",
            "neuron 2 : w0 =  0.57 , w1 = -0.74 , w2 =  0.44\n",
            "----------------\n",
            "x1 = -1.0 , x2 = -1.0 , y = 0.4960\n",
            "x1 = -1.0 , x2 =  1.0 , y = 0.6649\n",
            "x1 =  1.0 , x2 = -1.0 , y = 0.7030\n",
            "x1 =  1.0 , x2 =  1.0 , y = 0.8041\n"
          ]
        }
      ]
    }
  ]
}